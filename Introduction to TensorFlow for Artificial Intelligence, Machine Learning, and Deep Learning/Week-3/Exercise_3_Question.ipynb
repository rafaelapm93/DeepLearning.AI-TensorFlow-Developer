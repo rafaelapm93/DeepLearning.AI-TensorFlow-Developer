{
  "nbformat": 4,
  "nbformat_minor": 0,
  "metadata": {
    "colab": {
      "name": "Exercise 3 - Question.ipynb",
      "provenance": [],
      "collapsed_sections": [],
      "toc_visible": true
    },
    "kernelspec": {
      "display_name": "Python 3",
      "name": "python3"
    }
  },
  "cells": [
    {
      "cell_type": "code",
      "metadata": {
        "id": "zX4Kg8DUTKWO"
      },
      "source": [
        "#@title Licensed under the Apache License, Version 2.0 (the \"License\");\n",
        "# you may not use this file except in compliance with the License.\n",
        "# You may obtain a copy of the License at\n",
        "#\n",
        "# https://www.apache.org/licenses/LICENSE-2.0\n",
        "#\n",
        "# Unless required by applicable law or agreed to in writing, software\n",
        "# distributed under the License is distributed on an \"AS IS\" BASIS,\n",
        "# WITHOUT WARRANTIES OR CONDITIONS OF ANY KIND, either express or implied.\n",
        "# See the License for the specific language governing permissions and\n",
        "# limitations under the License."
      ],
      "execution_count": null,
      "outputs": []
    },
    {
      "cell_type": "markdown",
      "metadata": {
        "id": "iQjHqsmTAVLU"
      },
      "source": [
        "## Exercise 3\n",
        "In the videos you looked at how you would improve Fashion MNIST using Convolutions. For your exercise see if you can improve MNIST to 99.8% accuracy or more using only a single convolutional layer and a single MaxPooling 2D. You should stop training once the accuracy goes above this amount. It should happen in less than 20 epochs, so it's ok to hard code the number of epochs for training, but your training must end once it hits the above metric. If it doesn't, then you'll need to redesign your layers.\n",
        "\n",
        "I've started the code for you -- you need to finish it!\n",
        "\n",
        "When 99.8% accuracy has been hit, you should print out the string \"Reached 99.8% accuracy so cancelling training!\"\n"
      ]
    },
    {
      "cell_type": "code",
      "metadata": {
        "colab": {
          "base_uri": "https://localhost:8080/"
        },
        "id": "sfQRyaJWAIdg",
        "outputId": "dc51b23b-3cef-4ebb-edf6-2960224e3a14"
      },
      "source": [
        "import tensorflow as tf\n",
        "\n",
        "\n",
        "# Please write your code only where you are indicated.\n",
        "# please do not remove model fitting inline comments.\n",
        "\n",
        "# YOUR CODE STARTS HERE\n",
        "class MyCallback(tf.keras.callbacks.Callback):\n",
        "        def on_epoch_end(self,epoch,logs= {}):\n",
        "            if logs.get('accuracy') >= 0.998:\n",
        "                print('Reached 99.8% accuracy so cancelling training!')\n",
        "                self.model.stop_training = True\n",
        "\n",
        "callbacks = MyCallback()\n",
        "# YOUR CODE ENDS HERE\n",
        "\n",
        "mnist = tf.keras.datasets.mnist\n",
        "(training_images, training_labels), (test_images, test_labels) = mnist.load_data()\n",
        "# YOUR CODE STARTS HERE\n",
        "training_images = training_images.reshape(60000,28,28,1)\n",
        "training_images = training_images/255\n",
        "test_images = test_images.reshape(10000,28,28,1)\n",
        "test_images = test_images/255\n",
        "\n",
        "# YOUR CODE ENDS HERE\n",
        "\n",
        "model = tf.keras.models.Sequential([\n",
        "    \n",
        "        # YOUR CODE STARTS HERE\n",
        "    tf.keras.layers.Conv2D(64,(3,3),activation = 'relu',input_shape = (28,28,1)),\n",
        "    tf.keras.layers.MaxPooling2D(2,2),\n",
        "    tf.keras.layers.Flatten(),\n",
        "    tf.keras.layers.Dense(128,activation = 'relu'),\n",
        "    tf.keras.layers.Dense(10,activation = 'softmax')\n",
        "\n",
        "        # YOUR CODE ENDS HERE\n",
        "])\n",
        "\n",
        "model.compile(optimizer='adam', loss='sparse_categorical_crossentropy', metrics=['accuracy'])\n",
        "# model fitting\n",
        "history = model.fit(\n",
        "    # YOUR CODE STARTS HERE\n",
        "    training_images,training_labels,epochs = 20, callbacks = [callbacks]\n",
        "\n",
        "    # YOUR CODE ENDS HERE\n",
        ")\n",
        "# model fitting\n",
        "history.epoch, history.history['accuracy'][-1]\n"
      ],
      "execution_count": null,
      "outputs": [
        {
          "output_type": "stream",
          "text": [
            "Epoch 1/20\n",
            " 115/1875 [>.............................] - ETA: 47s - loss: 0.5788 - accuracy: 0.8212"
          ],
          "name": "stdout"
        }
      ]
    },
    {
      "cell_type": "code",
      "metadata": {
        "id": "iC66ebSbDJgU"
      },
      "source": [
        ""
      ],
      "execution_count": null,
      "outputs": []
    }
  ]
}